{
 "cells": [
  {
   "cell_type": "markdown",
   "id": "6829ed82",
   "metadata": {},
   "source": [
    "# Multiple regression - the exercise"
   ]
  },
  {
   "cell_type": "code",
   "execution_count": 1,
   "id": "062fe535",
   "metadata": {
    "execution": {
     "iopub.execute_input": "2022-12-05T12:12:46.343707Z",
     "iopub.status.busy": "2022-12-05T12:12:46.342530Z",
     "iopub.status.idle": "2022-12-05T12:12:47.687036Z",
     "shell.execute_reply": "2022-12-05T12:12:47.686665Z"
    }
   },
   "outputs": [],
   "source": [
    "# importing the modules we need\n",
    "\n",
    "import pandas as pd\n",
    "import numpy as np\n",
    "import matplotlib.pyplot as plt\n",
    "\n",
    "# some extra modules for some useful types of plot\n",
    "import seaborn as sns\n",
    "from mpl_toolkits.mplot3d import Axes3D\n",
    "\n",
    "# Scipy minimize\n",
    "from scipy.optimize import minimize"
   ]
  },
  {
   "cell_type": "markdown",
   "id": "4c5714f0",
   "metadata": {},
   "source": [
    "## Introduction\n",
    "\n",
    "Let's import the data we need. This is the RateMyProfessors dataset we looked\n",
    "at previously."
   ]
  },
  {
   "cell_type": "code",
   "execution_count": 2,
   "id": "7e441385",
   "metadata": {
    "execution": {
     "iopub.execute_input": "2022-12-05T12:12:47.689557Z",
     "iopub.status.busy": "2022-12-05T12:12:47.689317Z",
     "iopub.status.idle": "2022-12-05T12:12:47.704869Z",
     "shell.execute_reply": "2022-12-05T12:12:47.704531Z"
    }
   },
   "outputs": [],
   "source": [
    "df = pd.read_csv('rate_my_course.csv')\n",
    "df.head()"
   ]
  },
  {
   "cell_type": "markdown",
   "id": "895e0da6",
   "metadata": {},
   "source": [
    "We are going to perform two linear regressions in this exercise.\n",
    "\n",
    "First, a simple linear regression (one predictor variable, one outcome\n",
    "variable) - we will predict 'Clarity' from 'Helpfulness'.\n",
    "\n",
    "Second, a multiple linear regression (several predictors, one outcome\n",
    "variable) - we will predict 'Clarity' from 'Easiness' and 'Helpfulness'.\n",
    "\n",
    "Create a dataframe called `df_reg` which contains only the variables we need\n",
    "for these regressions (Easiness, Helpfulness and Clarity)."
   ]
  },
  {
   "cell_type": "code",
   "execution_count": 3,
   "id": "bbf52235",
   "metadata": {
    "execution": {
     "iopub.execute_input": "2022-12-05T12:12:47.706907Z",
     "iopub.status.busy": "2022-12-05T12:12:47.706754Z",
     "iopub.status.idle": "2022-12-05T12:12:47.713033Z",
     "shell.execute_reply": "2022-12-05T12:12:47.712737Z"
    }
   },
   "outputs": [],
   "source": [
    "df_reg = df[['Easiness', 'Helpfulness', 'Clarity']].copy()\n",
    "# Show the first five rows.\n",
    "df_reg.head()"
   ]
  },
  {
   "cell_type": "markdown",
   "id": "07c10ec4",
   "metadata": {},
   "source": [
    "## Simple Regression Exercise"
   ]
  },
  {
   "cell_type": "markdown",
   "id": "c8e5a290",
   "metadata": {},
   "source": [
    "Before performing any sort of regression analysis, it is sensible to visually\n",
    "inspect the data.\n",
    "\n",
    "Create a scatterplot showing the relationship between 'Helpfulness' and\n",
    "'Clarity'."
   ]
  },
  {
   "cell_type": "code",
   "execution_count": 4,
   "id": "a24ffc84",
   "metadata": {
    "execution": {
     "iopub.execute_input": "2022-12-05T12:12:47.715196Z",
     "iopub.status.busy": "2022-12-05T12:12:47.714938Z",
     "iopub.status.idle": "2022-12-05T12:12:47.835212Z",
     "shell.execute_reply": "2022-12-05T12:12:47.834815Z"
    }
   },
   "outputs": [],
   "source": [
    "df_reg.plot.scatter('Helpfulness', 'Clarity');"
   ]
  },
  {
   "cell_type": "markdown",
   "id": "2df9888f",
   "metadata": {},
   "source": [
    "For reflection: from visual inspection do you think there is a linear\n",
    "relationship between these variables?\n",
    "\n",
    "Let's perform a simple linear regression to see if your judgment is correct.\n",
    "\n",
    "Write a function, called `sos_error_for_minimize` which takes as its input a\n",
    "list containing an intercept and a slope.\n",
    "\n",
    "The function `sos_error_for_minimize` should use the intercept and slope to predict Clarity rating scores from the Helpfulness rating scores stored in `df_reg`. Remember: `prediction = intercept + slope * predictor`, where `predictor` is the variable you are trying to predict from.\n",
    "\n",
    "`sos_error_for_minimize` should then calculate the prediction errors by\n",
    "subtracting these predictions from the actual Clarity scores stored in\n",
    "`df_reg`. It should return the sum of the squared prediction errors.\n",
    "\n",
    "*Hint:* you may find it helpful to refer to the [Finding Lines page](https://lisds.github.io/textbook/mean-slopes/finding_lines.html)"
   ]
  },
  {
   "cell_type": "code",
   "execution_count": 5,
   "id": "5a348cbc",
   "metadata": {
    "execution": {
     "iopub.execute_input": "2022-12-05T12:12:47.837474Z",
     "iopub.status.busy": "2022-12-05T12:12:47.837313Z",
     "iopub.status.idle": "2022-12-05T12:12:47.840137Z",
     "shell.execute_reply": "2022-12-05T12:12:47.839617Z"
    }
   },
   "outputs": [],
   "source": [
    "def sos_error_for_minimize(intercept_and_slope):\n",
    "    intercept = intercept_and_slope[0]\n",
    "    slope = intercept_and_slope[1]\n",
    "    predicted = intercept + df_reg['Helpfulness'] * slope\n",
    "    error = df_reg['Clarity'] - predicted\n",
    "    return np.sum(error ** 2)"
   ]
  },
  {
   "cell_type": "markdown",
   "id": "3937559e",
   "metadata": {},
   "source": [
    "Run the cell below to check that your function is working."
   ]
  },
  {
   "cell_type": "code",
   "execution_count": 6,
   "id": "053d5dce",
   "metadata": {
    "execution": {
     "iopub.execute_input": "2022-12-05T12:12:47.842995Z",
     "iopub.status.busy": "2022-12-05T12:12:47.842649Z",
     "iopub.status.idle": "2022-12-05T12:12:47.847270Z",
     "shell.execute_reply": "2022-12-05T12:12:47.846594Z"
    }
   },
   "outputs": [],
   "source": [
    "sos_error_for_minimize([1,1])"
   ]
  },
  {
   "cell_type": "markdown",
   "id": "7d71c1e0",
   "metadata": {},
   "source": [
    "Now use minimize, from the scipy library, to minimize the value of\n",
    "`sos_error_for_minimize`. Store the minimization result that comes back from\n",
    "`minimize` in a variable called `simple_reg`.\n",
    "\n",
    "*Hint:* again, you may find it helpful to refer to the [Finding Lines page](https://lisds.github.io/textbook/mean-slopes/finding_lines.html)"
   ]
  },
  {
   "cell_type": "code",
   "execution_count": 7,
   "id": "e9c4c169",
   "metadata": {
    "execution": {
     "iopub.execute_input": "2022-12-05T12:12:47.849978Z",
     "iopub.status.busy": "2022-12-05T12:12:47.849795Z",
     "iopub.status.idle": "2022-12-05T12:12:47.859651Z",
     "shell.execute_reply": "2022-12-05T12:12:47.859130Z"
    }
   },
   "outputs": [],
   "source": [
    "simple_reg = minimize(sos_error_for_minimize, [1, 1])\n",
    "# Show the result\n",
    "simple_reg"
   ]
  },
  {
   "cell_type": "markdown",
   "id": "2758f55a",
   "metadata": {},
   "source": [
    "## Using regression coefficients to generate predictions"
   ]
  },
  {
   "cell_type": "markdown",
   "id": "99e63064",
   "metadata": {},
   "source": [
    "The code in the cell below uses the intercept and slope - found by `minimize`\n",
    "- to generate predicted Clarity scores from the Helpfulness scores. \n",
    "\n",
    "These predictions are then plotted along with the actual Clarity scores. You\n",
    "can see that the predictions capture the general trend pretty well.\n",
    "\n",
    "*Hint*: paying attention to the first three lines of this code may help you\n",
    "later in the exercise..."
   ]
  },
  {
   "cell_type": "code",
   "execution_count": 8,
   "id": "4ff3e822",
   "metadata": {
    "execution": {
     "iopub.execute_input": "2022-12-05T12:12:47.862413Z",
     "iopub.status.busy": "2022-12-05T12:12:47.862242Z",
     "iopub.status.idle": "2022-12-05T12:12:48.017501Z",
     "shell.execute_reply": "2022-12-05T12:12:48.017039Z"
    }
   },
   "outputs": [],
   "source": [
    "# getting the intercept value from the output from minimize\n",
    "intercept = simple_reg.x[0]\n",
    "\n",
    "# getting the slope value for the predictor from the output from minimize\n",
    "slope = simple_reg.x[1]\n",
    "\n",
    "# generating the predictions\n",
    "predicted_values_simple_reg = intercept + df_reg['Helpfulness'] * slope\n",
    "\n",
    "# generating the scatter plot\n",
    "plt.scatter(df_reg['Helpfulness'], df_reg['Clarity'], label = 'actual values')\n",
    "plt.scatter(df_reg['Helpfulness'], predicted_values_simple_reg, label = 'predicted values')\n",
    "plt.xlabel('Helpfulness')\n",
    "plt.ylabel('Clarity')\n",
    "plt.legend();"
   ]
  },
  {
   "cell_type": "markdown",
   "id": "c944ccea",
   "metadata": {},
   "source": [
    "## Moving to Multiple Regression"
   ]
  },
  {
   "cell_type": "markdown",
   "id": "34ee84a5",
   "metadata": {},
   "source": [
    "Predicting the values of one outcome variable from one predictor variable is\n",
    "useful. However, often we are interested in the relationships between multiple\n",
    "variables. This brings us to multiple regression.\n",
    "\n",
    "Once again, before performing any analysis it is sensible to visually inspect\n",
    "the data.\n",
    "\n",
    "`pairplot()` from the [Seaborn plotting library](https://seaborn.pydata.org/)\n",
    "is a useful function to inspect the relationship between multiple predictor\n",
    "variables and one outcome variable. It was imported at the start of this\n",
    "notebook using `import seaborn as sns`. This function might be useful to you\n",
    "in your projects.\n",
    "\n",
    "The cell below contains code which generates a *pairplot* which shows Number\n",
    "of Professors and Clarity as the predictor (x) variables, and Overall Quality\n",
    "as the outcome (y) variable."
   ]
  },
  {
   "cell_type": "code",
   "execution_count": 9,
   "id": "cff3c256",
   "metadata": {
    "execution": {
     "iopub.execute_input": "2022-12-05T12:12:48.019941Z",
     "iopub.status.busy": "2022-12-05T12:12:48.019779Z",
     "iopub.status.idle": "2022-12-05T12:12:48.176496Z",
     "shell.execute_reply": "2022-12-05T12:12:48.176061Z"
    }
   },
   "outputs": [],
   "source": [
    "# Creating a pairplot in Seaborn\n",
    "sns.pairplot(data = df,\n",
    "             x_vars = ['Number of Professors', 'Clarity'],\n",
    "             y_vars = 'Overall Quality');"
   ]
  },
  {
   "cell_type": "markdown",
   "id": "314f1e49",
   "metadata": {},
   "source": [
    "You can see that, from visual inspection, it looks like there is a strong\n",
    "linear relationship between Clarity and Overall Quality, but not between\n",
    "Number of Professors and Overall Quality.\n",
    "\n",
    "As mentioned earlier, for our multiple regression we are going to predict\n",
    "Clarity from Easiness and Helpfulness.\n",
    "\n",
    "Modify the `sns.pairplot()` code to generate a pairplot which uses 'Easiness' and 'Helpfulness' as the predictors (x_vars) and 'Clarity' as the outcome (y_vars)."
   ]
  },
  {
   "cell_type": "code",
   "execution_count": 10,
   "id": "689bd99b",
   "metadata": {
    "execution": {
     "iopub.execute_input": "2022-12-05T12:12:48.179270Z",
     "iopub.status.busy": "2022-12-05T12:12:48.179065Z",
     "iopub.status.idle": "2022-12-05T12:12:48.334797Z",
     "shell.execute_reply": "2022-12-05T12:12:48.334127Z"
    }
   },
   "outputs": [],
   "source": [
    "sns.pairplot(data = df_reg,\n",
    "             x_vars = ['Easiness', 'Helpfulness'],\n",
    "             y_vars = 'Clarity');"
   ]
  },
  {
   "cell_type": "markdown",
   "id": "2e47be3f",
   "metadata": {},
   "source": [
    "For reflection: do you think Easiness and Helpfulness look like they have a\n",
    "linear relationship with clarity?\n",
    "\n",
    "To show the relationship further, run the code in the cell below to generate a\n",
    "3D scatter plot.  Don't worry about the detail of the code below."
   ]
  },
  {
   "cell_type": "code",
   "execution_count": 11,
   "id": "56d2b6fe",
   "metadata": {
    "execution": {
     "iopub.execute_input": "2022-12-05T12:12:48.337936Z",
     "iopub.status.busy": "2022-12-05T12:12:48.337685Z",
     "iopub.status.idle": "2022-12-05T12:12:48.491154Z",
     "shell.execute_reply": "2022-12-05T12:12:48.490608Z"
    }
   },
   "outputs": [],
   "source": [
    "# Run this code; please don't worry about the detail.\n",
    "import mpl_toolkits.mplot3d\n",
    "fig = plt.figure(figsize = (10,8))\n",
    "ax = fig.add_subplot(111, projection='3d')\n",
    "ax.scatter(df_reg['Helpfulness'], df_reg['Easiness'], df_reg['Clarity'])\n",
    "plt.xlabel('Helpfulness Rating')\n",
    "plt.ylabel('Easiness Rating')\n",
    "ax.set_zlabel('Clarity Rating');"
   ]
  },
  {
   "cell_type": "markdown",
   "id": "6d4e3da8",
   "metadata": {},
   "source": [
    "## Multiple Regression\n",
    "\n",
    "The functions in the three cells below give us the machinery we need for\n",
    "multiple regression using `minimize`. They are modified from the [Simple and\n",
    "multiple regression textbook page](https://lisds.github.io/textbook/classification/single_multiple.html).\n",
    "\n",
    "Read the docstring and the comments in the cells and make sure you understand\n",
    "what each line of the function is doing.\n",
    "\n",
    "**Remember to run all three cells.**\n"
   ]
  },
  {
   "cell_type": "code",
   "execution_count": 12,
   "id": "e2a2affe",
   "metadata": {
    "execution": {
     "iopub.execute_input": "2022-12-05T12:12:48.494667Z",
     "iopub.status.busy": "2022-12-05T12:12:48.494476Z",
     "iopub.status.idle": "2022-12-05T12:12:48.497169Z",
     "shell.execute_reply": "2022-12-05T12:12:48.496752Z"
    }
   },
   "outputs": [],
   "source": [
    "def predict(intercept, slopes, row):\n",
    "    \"\"\" Predict a value given an intercept, slopes and corresponding row values\n",
    "    \"\"\"\n",
    "    return intercept + np.sum(slopes * np.array(row))"
   ]
  },
  {
   "cell_type": "code",
   "execution_count": 13,
   "id": "9a330ed8",
   "metadata": {
    "execution": {
     "iopub.execute_input": "2022-12-05T12:12:48.499207Z",
     "iopub.status.busy": "2022-12-05T12:12:48.499042Z",
     "iopub.status.idle": "2022-12-05T12:12:48.502649Z",
     "shell.execute_reply": "2022-12-05T12:12:48.502262Z"
    }
   },
   "outputs": [],
   "source": [
    "def rmse(intercept, slopes, attributes, y_values):\n",
    "    \"\"\" Root mean square error for prediction of `y_values` from `attributes`\n",
    "\n",
    "    Use `intercept` and `slopes` multiplied by `attributes` to give prediction.\n",
    "\n",
    "    `attributes` is a data frame with numerical attributes to predict from.\n",
    "    \"\"\"\n",
    "    errors = []  # create an empty list, to store the prediction errors\n",
    "\n",
    "    # for every observation in the dataset (`i` is the index of the current\n",
    "    # observation)\n",
    "    for i in np.arange(len(y_values)):\n",
    "\n",
    "        # call the predict() function and apply it to the current row of the\n",
    "        # attributes dataframe, using the intercept and slope values\n",
    "        predicted = predict(intercept, slopes, attributes.iloc[i])\n",
    "\n",
    "        # get the actual value of the outcome variable for this observation\n",
    "        actual = y_values.iloc[i]\n",
    "\n",
    "        # Calculate the squared prediction error for this observation and\n",
    "        # append it to the 'errors' list.\n",
    "        errors.append((predicted - actual) ** 2)\n",
    "\n",
    "    # Return the square root of the average squared error\n",
    "    return np.sqrt(np.mean(errors))"
   ]
  },
  {
   "cell_type": "code",
   "execution_count": 14,
   "id": "8ffcaa69",
   "metadata": {
    "execution": {
     "iopub.execute_input": "2022-12-05T12:12:48.504777Z",
     "iopub.status.busy": "2022-12-05T12:12:48.504646Z",
     "iopub.status.idle": "2022-12-05T12:12:48.507976Z",
     "shell.execute_reply": "2022-12-05T12:12:48.507646Z"
    }
   },
   "outputs": [],
   "source": [
    "def rmse_for_params(params):\n",
    "    \"\"\" RMSE for intercept, slopes contained in `params`\n",
    "\n",
    "    `params[0]` is the intercept.  `params[1:]` are the slopes.\n",
    "    \"\"\"\n",
    "    # store the first value of the 'params' list in a variable called\n",
    "    # 'intercept'\n",
    "    intercept = params[0]\n",
    "\n",
    "    # store the rest of the values in the 'params' list in a variable called\n",
    "    # 'slopes'\n",
    "    slopes = params[1:]\n",
    "\n",
    "    # call the rmse() function and return its output\n",
    "    return rmse(intercept,\n",
    "                slopes,\n",
    "                df_reg.loc[:, ['Easiness', 'Helpfulness']], # predictors\n",
    "                df_reg['Clarity']  # outcome variable\n",
    "               )"
   ]
  },
  {
   "cell_type": "markdown",
   "id": "23763b3e",
   "metadata": {},
   "source": [
    "*Note*: this way of doing things takes the predictor variable values and the\n",
    "outcome variable values from the 'top level' e.g. they are not given to the\n",
    "`rmse_for_params()` function as arguments. Therefore, this function wouldn't\n",
    "work if we were using different variables as the predictors or the outcome. We\n",
    "would need to write another function, or use the method shown in the [multiple\n",
    "regression page](https://lisds.github.io/textbook/classification/Multiple_Regression).\n",
    "\n",
    "Use `minimize` to perform multiple linear regression, using the\n",
    "`rmse_for_params()` function. Predict Clarity from Easiness and Helpfulness.\n",
    "Store the result from `minimize` in a variable called `min_multi_res`."
   ]
  },
  {
   "cell_type": "markdown",
   "id": "ab5347ce",
   "metadata": {},
   "source": [
    "*Hint*: you may find it helpful to refer to the [Simple and multiple regression page](https://lisds.github.io/textbook/classification/single_multiple)"
   ]
  },
  {
   "cell_type": "code",
   "execution_count": 15,
   "id": "74d26d6c",
   "metadata": {
    "execution": {
     "iopub.execute_input": "2022-12-05T12:12:48.510106Z",
     "iopub.status.busy": "2022-12-05T12:12:48.509958Z",
     "iopub.status.idle": "2022-12-05T12:12:48.700087Z",
     "shell.execute_reply": "2022-12-05T12:12:48.699713Z"
    }
   },
   "outputs": [],
   "source": [
    "min_multi_res = minimize(rmse_for_params, [0, 0, 0])\n",
    "# Show the result.\n",
    "min_multi_res"
   ]
  },
  {
   "cell_type": "markdown",
   "id": "7dc187c6",
   "metadata": {},
   "source": [
    "Now, get the values of the intercept and slopes and store these in separate\n",
    "variables."
   ]
  },
  {
   "cell_type": "markdown",
   "id": "7ca92c9f",
   "metadata": {},
   "source": [
    "*Hint*:  you may want to refer to the cell above entitled 'Using regression\n",
    "coefficients to generate predictions'."
   ]
  },
  {
   "cell_type": "code",
   "execution_count": 16,
   "id": "6fe9f8e4",
   "metadata": {
    "execution": {
     "iopub.execute_input": "2022-12-05T12:12:48.702269Z",
     "iopub.status.busy": "2022-12-05T12:12:48.702121Z",
     "iopub.status.idle": "2022-12-05T12:12:48.704238Z",
     "shell.execute_reply": "2022-12-05T12:12:48.703906Z"
    }
   },
   "outputs": [],
   "source": [
    "# answer\n",
    "\n",
    "intercept = min_multi_res.x[0]\n",
    "easiness_slope = min_multi_res.x[1]\n",
    "helpfulness_slope = min_multi_res.x[2]"
   ]
  },
  {
   "cell_type": "markdown",
   "id": "bb6bf38b",
   "metadata": {},
   "source": [
    "Use the intercept and slope variables you have just created to generate\n",
    "predicted Clarity scores from the Easiness and Helpfulness scores.\n",
    "\n",
    "Remember - for multiple regression:\n",
    "\n",
    "```\n",
    "prediction = intercept + slope_1 * predictor_1 + slope_2 * predictor_2\n",
    "```\n",
    "\n",
    "In this case Easiness and Helpfulness are the predictors.\n",
    "\n",
    "*Hint*: again, you may want to refer to the cell above entitled 'Using\n",
    "regression coefficients to generate predictions'."
   ]
  },
  {
   "cell_type": "code",
   "execution_count": 17,
   "id": "3e73f060",
   "metadata": {
    "execution": {
     "iopub.execute_input": "2022-12-05T12:12:48.706189Z",
     "iopub.status.busy": "2022-12-05T12:12:48.706049Z",
     "iopub.status.idle": "2022-12-05T12:12:48.709773Z",
     "shell.execute_reply": "2022-12-05T12:12:48.709424Z"
    }
   },
   "outputs": [],
   "source": [
    "# answer\n",
    "predicted_values = intercept + easiness_slope * df_reg['Easiness'] + helpfulness_slope * df_reg['Helpfulness']\n",
    "# Show the result.\n",
    "predicted_values"
   ]
  },
  {
   "cell_type": "markdown",
   "id": "a7191a2a",
   "metadata": {},
   "source": [
    "The cell below plots the predicted values against the actual values. For\n",
    "reflection: how well do you think multiple linear regression did at capturing\n",
    "the general trend in the data?"
   ]
  },
  {
   "cell_type": "code",
   "execution_count": 18,
   "id": "a69c7af9",
   "metadata": {
    "execution": {
     "iopub.execute_input": "2022-12-05T12:12:48.711788Z",
     "iopub.status.busy": "2022-12-05T12:12:48.711674Z",
     "iopub.status.idle": "2022-12-05T12:12:48.876931Z",
     "shell.execute_reply": "2022-12-05T12:12:48.876530Z"
    }
   },
   "outputs": [],
   "source": [
    "# Do not worry about this code, it just generates the 3D plot\n",
    "fig = plt.figure(figsize = (10,8))\n",
    "ax = fig.add_subplot(111, projection='3d')\n",
    "ax.scatter(df_reg['Helpfulness'], df_reg['Easiness'], df_reg['Clarity'], label = 'actual values')\n",
    "ax.scatter(df_reg['Helpfulness'], df_reg['Easiness'], predicted_values, label = 'predicted values', color = 'red')\n",
    "plt.legend()\n",
    "plt.xlabel('Helpfulness Rating')\n",
    "plt.ylabel('Easiness Rating')\n",
    "ax.set_zlabel('Clarity Rating');"
   ]
  },
  {
   "cell_type": "markdown",
   "id": "93b8f678",
   "metadata": {},
   "source": [
    "## Linear Regression with statsmodels\n",
    "\n",
    "We can also perform linear regression using functions from the Statsmodels\n",
    "library.\n",
    "\n",
    "The cell below uses statsmodels to predict Clarity from Helpfulness, using\n",
    "linear regression. *Note*: this is the same simple linear regression we did\n",
    "earlier..."
   ]
  },
  {
   "cell_type": "code",
   "execution_count": 19,
   "id": "2d1e3d1c",
   "metadata": {
    "execution": {
     "iopub.execute_input": "2022-12-05T12:12:48.879930Z",
     "iopub.status.busy": "2022-12-05T12:12:48.879651Z",
     "iopub.status.idle": "2022-12-05T12:12:48.953109Z",
     "shell.execute_reply": "2022-12-05T12:12:48.952294Z"
    }
   },
   "outputs": [],
   "source": [
    "import statsmodels.formula.api as smf\n",
    "\n",
    "simple_model_sm = smf.ols(formula=\"Clarity ~ Helpfulness\", data = df_reg) # create a model\n",
    "simple_fit_sm = simple_model_sm.fit() # fit the model\n",
    "simple_fit_sm.summary() # show the model summary"
   ]
  },
  {
   "cell_type": "markdown",
   "id": "fed2a36f",
   "metadata": {},
   "source": [
    "Look at the intercept and slope values from statsmodels (shown in the table\n",
    "above under 'coef').\n",
    "\n",
    "Let's compare those values to the intercept and slope values we got from our\n",
    "simple linear regression, where we predicted Clarity from Helpfulness using\n",
    "`minimize`:"
   ]
  },
  {
   "cell_type": "code",
   "execution_count": 20,
   "id": "aedeb1dc",
   "metadata": {
    "execution": {
     "iopub.execute_input": "2022-12-05T12:12:48.955604Z",
     "iopub.status.busy": "2022-12-05T12:12:48.955433Z",
     "iopub.status.idle": "2022-12-05T12:12:48.958369Z",
     "shell.execute_reply": "2022-12-05T12:12:48.957972Z"
    }
   },
   "outputs": [],
   "source": [
    "simple_reg.x"
   ]
  },
  {
   "cell_type": "markdown",
   "id": "c41e2c06",
   "metadata": {},
   "source": [
    "How similar/different are the slope and intercept values that Statsmodels\n",
    "found from the ones we found using `minimize`? Write your answer in the cell\n",
    "below:"
   ]
  },
  {
   "cell_type": "markdown",
   "id": "9eca0fa2",
   "metadata": {},
   "source": [
    "<i> Your answer here... </i>\n"
   ]
  },
  {
   "cell_type": "markdown",
   "id": "5afa766c",
   "metadata": {},
   "source": [
    "## Multiple Regression with Statsmodels\n",
    "\n",
    "Let's perform the same multiple regression we did above, but this time using\n",
    "Statsmodels.\n",
    "\n",
    "Expanding on the statsmodels code presented above, use statsmodels to predict\n",
    "Clarity from Easiness and Helpfulness. Call the model `multi_model_sm` and\n",
    "called the fitted model `multi_fit_sm`.\n",
    "\n",
    "*Hint*: you may want to refer to the [Simple and multiple regression textbook\n",
    "page](https://lisds.github.io/textbook/classification/single_multiple.html)."
   ]
  },
  {
   "cell_type": "code",
   "execution_count": 21,
   "id": "b2359383",
   "metadata": {
    "execution": {
     "iopub.execute_input": "2022-12-05T12:12:48.960575Z",
     "iopub.status.busy": "2022-12-05T12:12:48.960426Z",
     "iopub.status.idle": "2022-12-05T12:12:48.973583Z",
     "shell.execute_reply": "2022-12-05T12:12:48.973229Z"
    }
   },
   "outputs": [],
   "source": [
    "# answer\n",
    "\n",
    "multi_model_sm = smf.ols(formula=\"Clarity ~ Easiness + Helpfulness\", data=df_reg)\n",
    "multi_fit_sm = multi_model_sm.fit()\n",
    "# Show the summary.\n",
    "multi_fit_sm.summary()"
   ]
  },
  {
   "cell_type": "markdown",
   "id": "eec2d11e",
   "metadata": {},
   "source": [
    "Again, look at the intercept and slope values from statsmodels (shown in the\n",
    "table above under 'coef').\n",
    "\n",
    "Let's compare those values to the intercept and slope values we got from our\n",
    "multiple linear regression, where we predicted Clarity from Easiness and\n",
    "Helpfulness using `minimize`:"
   ]
  },
  {
   "cell_type": "code",
   "execution_count": 22,
   "id": "3c2dc1fc",
   "metadata": {
    "execution": {
     "iopub.execute_input": "2022-12-05T12:12:48.975686Z",
     "iopub.status.busy": "2022-12-05T12:12:48.975536Z",
     "iopub.status.idle": "2022-12-05T12:12:48.978494Z",
     "shell.execute_reply": "2022-12-05T12:12:48.977949Z"
    }
   },
   "outputs": [],
   "source": [
    "min_multi_res.x"
   ]
  },
  {
   "cell_type": "markdown",
   "id": "c5f773fa",
   "metadata": {},
   "source": [
    "How similar/different are the slope and intercept values that statsmodels\n",
    "found from the ones we found using `minimize`? Write your answer in the cell\n",
    "below:"
   ]
  },
  {
   "cell_type": "markdown",
   "id": "be1a80df",
   "metadata": {},
   "source": [
    "*Your answer here...*"
   ]
  },
  {
   "cell_type": "markdown",
   "id": "6715919c",
   "metadata": {},
   "source": [
    "## Comparing statsmodels predictions to minimize\n",
    "\n",
    "Just for fun, let's see how close the predictions are from each method of\n",
    "performing multiple linear regression (`minimize` vs Statsmodels).\n",
    "\n",
    "The `.predict()` method from Statsmodels can be used to generate predictions\n",
    "from a model. The cell below uses this method to predict Easiness and\n",
    "Helpfulness from Clarity."
   ]
  },
  {
   "cell_type": "code",
   "execution_count": 23,
   "id": "4c5a0b93",
   "metadata": {
    "execution": {
     "iopub.execute_input": "2022-12-05T12:12:48.980764Z",
     "iopub.status.busy": "2022-12-05T12:12:48.980607Z",
     "iopub.status.idle": "2022-12-05T12:12:48.986267Z",
     "shell.execute_reply": "2022-12-05T12:12:48.985925Z"
    }
   },
   "outputs": [],
   "source": [
    "attributes = df_reg[['Easiness', 'Helpfulness']]\n",
    "sm_predictions = multi_fit_sm.predict(attributes)\n",
    "sm_predictions"
   ]
  },
  {
   "cell_type": "markdown",
   "id": "f53db86d",
   "metadata": {},
   "source": [
    "Let's take these predicted Clarity values from Statsmodels, and subtract them\n",
    "from the predictions we got from multiple regression using minimize.\n",
    "\n",
    "If these values are small, it means the predictions from the two methods were\n",
    "very close."
   ]
  },
  {
   "cell_type": "code",
   "execution_count": 24,
   "id": "6838b12e",
   "metadata": {
    "execution": {
     "iopub.execute_input": "2022-12-05T12:12:48.988206Z",
     "iopub.status.busy": "2022-12-05T12:12:48.988062Z",
     "iopub.status.idle": "2022-12-05T12:12:48.991534Z",
     "shell.execute_reply": "2022-12-05T12:12:48.991176Z"
    }
   },
   "outputs": [],
   "source": [
    "minimize_vs_sm = predicted_values - sm_predictions\n",
    "minimize_vs_sm"
   ]
  },
  {
   "cell_type": "markdown",
   "id": "6c1d3027",
   "metadata": {},
   "source": [
    "Plot a histogram of the differences in the predictions between the two methods."
   ]
  },
  {
   "cell_type": "code",
   "execution_count": 25,
   "id": "17436cea",
   "metadata": {
    "execution": {
     "iopub.execute_input": "2022-12-05T12:12:48.993443Z",
     "iopub.status.busy": "2022-12-05T12:12:48.993334Z",
     "iopub.status.idle": "2022-12-05T12:12:49.093860Z",
     "shell.execute_reply": "2022-12-05T12:12:49.093121Z"
    }
   },
   "outputs": [],
   "source": [
    "plt.hist(minimize_vs_sm);"
   ]
  },
  {
   "cell_type": "markdown",
   "id": "b2816cdd",
   "metadata": {},
   "source": [
    "Calculate the mean difference between the predictions from the two methods:"
   ]
  },
  {
   "cell_type": "code",
   "execution_count": 26,
   "id": "6ac10f4d",
   "metadata": {
    "execution": {
     "iopub.execute_input": "2022-12-05T12:12:49.096946Z",
     "iopub.status.busy": "2022-12-05T12:12:49.096746Z",
     "iopub.status.idle": "2022-12-05T12:12:49.100229Z",
     "shell.execute_reply": "2022-12-05T12:12:49.099748Z"
    }
   },
   "outputs": [],
   "source": [
    "mean_difference_in_prediction = np.mean(minimize_vs_sm)\n",
    "# Show the result.\n",
    "mean_difference_in_prediction"
   ]
  },
  {
   "cell_type": "markdown",
   "id": "53b9e138",
   "metadata": {},
   "source": [
    "Finally, use `np.count_nonzero()` to count the number of differences in the\n",
    "predictions between the two methods which have an absolute value larger than\n",
    "0.001."
   ]
  },
  {
   "cell_type": "code",
   "execution_count": 27,
   "id": "a098e686",
   "metadata": {
    "execution": {
     "iopub.execute_input": "2022-12-05T12:12:49.102447Z",
     "iopub.status.busy": "2022-12-05T12:12:49.102322Z",
     "iopub.status.idle": "2022-12-05T12:12:49.105876Z",
     "shell.execute_reply": "2022-12-05T12:12:49.105522Z"
    }
   },
   "outputs": [],
   "source": [
    "np.count_nonzero(np.abs(minimize_vs_sm > 0.001))"
   ]
  },
  {
   "cell_type": "markdown",
   "id": "a2613aab",
   "metadata": {},
   "source": [
    "Do you think the models are generating similar or different predictions? Why?\n",
    "Write your answer in the cell below:"
   ]
  },
  {
   "cell_type": "markdown",
   "id": "c4f04615",
   "metadata": {},
   "source": [
    "*Your answer here...*"
   ]
  }
 ],
 "metadata": {
  "jupytext": {
   "text_representation": {
    "extension": ".Rmd",
    "format_name": "rmarkdown",
    "format_version": "1.2",
    "jupytext_version": "1.8.2"
   }
  },
  "kernelspec": {
   "display_name": "Python 3",
   "language": "python",
   "name": "python3"
  },
  "language_info": {
   "codemirror_mode": {
    "name": "ipython",
    "version": 3
   },
   "file_extension": ".py",
   "mimetype": "text/x-python",
   "name": "python",
   "nbconvert_exporter": "python",
   "pygments_lexer": "ipython3",
   "version": "3.10.7"
  }
 },
 "nbformat": 4,
 "nbformat_minor": 5
}
